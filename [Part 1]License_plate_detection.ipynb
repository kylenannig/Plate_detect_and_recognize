{
 "cells": [
  {
   "cell_type": "code",
   "execution_count": 1,
   "metadata": {},
   "outputs": [],
   "source": [
    "import cv2\n",
    "import numpy as np\n",
    "import matplotlib.pyplot as plt\n",
    "from local_utils import detect_lp\n",
    "from os.path import splitext,basename\n",
    "from keras.models import model_from_json\n",
    "import glob"
   ]
  },
  {
   "cell_type": "code",
   "execution_count": 2,
   "metadata": {},
   "outputs": [],
   "source": [
    "def load_model(path):\n",
    "    try:\n",
    "        path = splitext(path)[0]\n",
    "        with open('%s.json' % path, 'r') as json_file:\n",
    "            model_json = json_file.read()\n",
    "        model = model_from_json(model_json, custom_objects={})\n",
    "        model.load_weights('%s.h5' % path)\n",
    "        print(\"Loading model successfully...\")\n",
    "        return model\n",
    "    except Exception as e:\n",
    "        print(e)"
   ]
  },
  {
   "cell_type": "code",
   "execution_count": 3,
   "metadata": {},
   "outputs": [
    {
     "name": "stdout",
     "output_type": "stream",
     "text": [
      "Loading model successfully...\n"
     ]
    }
   ],
   "source": [
    "wpod_net_path = \"wpod-net.json\"\n",
    "wpod_net = load_model(wpod_net_path)"
   ]
  },
  {
   "cell_type": "code",
   "execution_count": 4,
   "metadata": {},
   "outputs": [],
   "source": [
    "def preprocess_image(image_path,resize=False):\n",
    "    img = cv2.imread(image_path)\n",
    "    img = cv2.cvtColor(img, cv2.COLOR_BGR2RGB)\n",
    "    img = img / 255\n",
    "    if resize:\n",
    "        img = cv2.resize(img, (224,224))\n",
    "    return img"
   ]
  },
  {
   "cell_type": "code",
   "execution_count": 5,
   "metadata": {},
   "outputs": [
    {
     "name": "stdout",
     "output_type": "stream",
     "text": [
      "Found 20 images...\n"
     ]
    },
    {
     "ename": "TypeError",
     "evalue": "object of type 'bool' has no len()",
     "output_type": "error",
     "traceback": [
      "\u001b[0;31m---------------------------------------------------------------------------\u001b[0m",
      "\u001b[0;31mTypeError\u001b[0m                                 Traceback (most recent call last)",
      "\u001b[0;32m<ipython-input-5-6a99ccb4272f>\u001b[0m in \u001b[0;36m<module>\u001b[0;34m()\u001b[0m\n\u001b[1;32m     13\u001b[0m     \u001b[0mfig_list\u001b[0m\u001b[0;34m[\u001b[0m\u001b[0;34m-\u001b[0m\u001b[0;36m1\u001b[0m\u001b[0;34m]\u001b[0m\u001b[0;34m.\u001b[0m\u001b[0mset_title\u001b[0m\u001b[0;34m(\u001b[0m\u001b[0mtitle\u001b[0m\u001b[0;34m)\u001b[0m\u001b[0;34m\u001b[0m\u001b[0;34m\u001b[0m\u001b[0m\n\u001b[1;32m     14\u001b[0m     \u001b[0mimg\u001b[0m \u001b[0;34m=\u001b[0m \u001b[0mpreprocess_image\u001b[0m\u001b[0;34m(\u001b[0m\u001b[0mimage_paths\u001b[0m\u001b[0;34m[\u001b[0m\u001b[0mi\u001b[0m\u001b[0;34m]\u001b[0m\u001b[0;34m,\u001b[0m\u001b[0;32mTrue\u001b[0m\u001b[0;34m)\u001b[0m\u001b[0;34m\u001b[0m\u001b[0;34m\u001b[0m\u001b[0m\n\u001b[0;32m---> 15\u001b[0;31m     \u001b[0mplt\u001b[0m\u001b[0;34m.\u001b[0m\u001b[0maxis\u001b[0m\u001b[0;34m(\u001b[0m\u001b[0;32mFalse\u001b[0m\u001b[0;34m)\u001b[0m\u001b[0;34m\u001b[0m\u001b[0;34m\u001b[0m\u001b[0m\n\u001b[0m\u001b[1;32m     16\u001b[0m     \u001b[0mplt\u001b[0m\u001b[0;34m.\u001b[0m\u001b[0mimshow\u001b[0m\u001b[0;34m(\u001b[0m\u001b[0mimg\u001b[0m\u001b[0;34m)\u001b[0m\u001b[0;34m\u001b[0m\u001b[0;34m\u001b[0m\u001b[0m\n\u001b[1;32m     17\u001b[0m \u001b[0;34m\u001b[0m\u001b[0m\n",
      "\u001b[0;32m/usr/lib/python3/dist-packages/matplotlib/pyplot.py\u001b[0m in \u001b[0;36maxis\u001b[0;34m(*v, **kwargs)\u001b[0m\n\u001b[1;32m   1472\u001b[0m            \u001b[0mFor\u001b[0m \u001b[0msetting\u001b[0m \u001b[0mthe\u001b[0m \u001b[0mx\u001b[0m\u001b[0;34m-\u001b[0m \u001b[0;32mand\u001b[0m \u001b[0my\u001b[0m\u001b[0;34m-\u001b[0m\u001b[0mlimits\u001b[0m \u001b[0mindividually\u001b[0m\u001b[0;34m.\u001b[0m\u001b[0;34m\u001b[0m\u001b[0;34m\u001b[0m\u001b[0m\n\u001b[1;32m   1473\u001b[0m     \"\"\"\n\u001b[0;32m-> 1474\u001b[0;31m     \u001b[0;32mreturn\u001b[0m \u001b[0mgca\u001b[0m\u001b[0;34m(\u001b[0m\u001b[0;34m)\u001b[0m\u001b[0;34m.\u001b[0m\u001b[0maxis\u001b[0m\u001b[0;34m(\u001b[0m\u001b[0;34m*\u001b[0m\u001b[0mv\u001b[0m\u001b[0;34m,\u001b[0m \u001b[0;34m**\u001b[0m\u001b[0mkwargs\u001b[0m\u001b[0;34m)\u001b[0m\u001b[0;34m\u001b[0m\u001b[0;34m\u001b[0m\u001b[0m\n\u001b[0m\u001b[1;32m   1475\u001b[0m \u001b[0;34m\u001b[0m\u001b[0m\n\u001b[1;32m   1476\u001b[0m \u001b[0;34m\u001b[0m\u001b[0m\n",
      "\u001b[0;32m/usr/lib/python3/dist-packages/matplotlib/axes/_base.py\u001b[0m in \u001b[0;36maxis\u001b[0;34m(self, *v, **kwargs)\u001b[0m\n\u001b[1;32m   1625\u001b[0m \u001b[0;34m\u001b[0m\u001b[0m\n\u001b[1;32m   1626\u001b[0m         \u001b[0mv\u001b[0m \u001b[0;34m=\u001b[0m \u001b[0mv\u001b[0m\u001b[0;34m[\u001b[0m\u001b[0;36m0\u001b[0m\u001b[0;34m]\u001b[0m\u001b[0;34m\u001b[0m\u001b[0;34m\u001b[0m\u001b[0m\n\u001b[0;32m-> 1627\u001b[0;31m         \u001b[0;32mif\u001b[0m \u001b[0mlen\u001b[0m\u001b[0;34m(\u001b[0m\u001b[0mv\u001b[0m\u001b[0;34m)\u001b[0m \u001b[0;34m!=\u001b[0m \u001b[0;36m4\u001b[0m\u001b[0;34m:\u001b[0m\u001b[0;34m\u001b[0m\u001b[0;34m\u001b[0m\u001b[0m\n\u001b[0m\u001b[1;32m   1628\u001b[0m             \u001b[0;32mraise\u001b[0m \u001b[0mValueError\u001b[0m\u001b[0;34m(\u001b[0m\u001b[0;34m'v must contain [xmin xmax ymin ymax]'\u001b[0m\u001b[0;34m)\u001b[0m\u001b[0;34m\u001b[0m\u001b[0;34m\u001b[0m\u001b[0m\n\u001b[1;32m   1629\u001b[0m \u001b[0;34m\u001b[0m\u001b[0m\n",
      "\u001b[0;31mTypeError\u001b[0m: object of type 'bool' has no len()"
     ]
    },
    {
     "data": {
      "image/png": "[encoded data removed]",
      "text/plain": [
       "<matplotlib.figure.Figure at 0x7fd97b8b8fd0>"
      ]
     },
     "metadata": {},
     "output_type": "display_data"
    }
   ],
   "source": [
    "# Create a list of image paths \n",
    "image_paths = glob.glob(\"Plate_examples/*.jpg\")\n",
    "print(\"Found %i images...\"%(len(image_paths)))\n",
    "\n",
    "# Visualize data in subplot \n",
    "fig = plt.figure(figsize=(12,8))\n",
    "cols = 5\n",
    "rows = 4\n",
    "fig_list = []\n",
    "for i in range(len(image_paths)):\n",
    "    fig_list.append(fig.add_subplot(rows,cols,i+1))\n",
    "    title = splitext(basename(image_paths[i]))[0]\n",
    "    fig_list[-1].set_title(title)\n",
    "    img = preprocess_image(image_paths[i],True)\n",
    "    plt.axis(False)\n",
    "    plt.imshow(img)\n",
    "\n",
    "plt.tight_layout(True)\n",
    "plt.show()\n"
   ]
  },
  {
   "cell_type": "code",
   "execution_count": null,
   "metadata": {
    "scrolled": true
   },
   "outputs": [],
   "source": [
    "# forward image through model and return plate's image and coordinates\n",
    "# if error \"No Licensese plate is founded!\" pop up, try to adjust Dmin\n",
    "def get_plate(image_path, Dmax=608, Dmin=256):\n",
    "    vehicle = preprocess_image(image_path)\n",
    "    ratio = float(max(vehicle.shape[:2])) / min(vehicle.shape[:2])\n",
    "    side = int(ratio * Dmin)\n",
    "    bound_dim = min(side, Dmax)\n",
    "    _ , LpImg, _, cor = detect_lp(wpod_net, vehicle, bound_dim, lp_threshold=0.5)\n",
    "    return LpImg, cor\n",
    "\n",
    "# Obtain plate image and its coordinates from an image\n",
    "test_image = image_paths[2]\n",
    "LpImg,cor = get_plate(test_image)\n",
    "print(\"Detect %i plate(s) in\"%len(LpImg),splitext(basename(test_image))[0])\n",
    "print(\"Coordinate of plate(s) in image: \\n\", cor)\n",
    "\n",
    "# Visualize our result\n",
    "plt.figure(figsize=(12,5))\n",
    "plt.subplot(1,2,1)\n",
    "plt.axis(False)\n",
    "plt.imshow(preprocess_image(test_image))\n",
    "plt.subplot(1,2,2)\n",
    "plt.axis(False)\n",
    "plt.imshow(LpImg[0])\n",
    "\n",
    "print(f'LpImg Size: {np.asarray(LpImg).shape}')\n",
    "\n",
    "#plt.savefig(\"part1_result.jpg\",dpi=300)"
   ]
  },
  {
   "cell_type": "code",
   "execution_count": null,
   "metadata": {},
   "outputs": [],
   "source": [
    "def draw_box(image_path, cor, thickness=3): \n",
    "    pts=[]  \n",
    "    x_coordinates=cor[0][0]\n",
    "    y_coordinates=cor[0][1]\n",
    "    # store the top-left, top-right, bottom-left, bottom-right \n",
    "    # of the plate license respectively\n",
    "    for i in range(4):\n",
    "        pts.append([int(x_coordinates[i]),int(y_coordinates[i])])\n",
    "    \n",
    "    pts = np.array(pts, np.int32)\n",
    "    pts = pts.reshape((-1,1,2))\n",
    "    vehicle_image = preprocess_image(image_path)\n",
    "    \n",
    "    cv2.polylines(vehicle_image,[pts],True,(0,255,0),thickness)\n",
    "    return vehicle_image\n",
    "\n",
    "plt.figure(figsize=(8,8))\n",
    "plt.axis(False)\n",
    "plt.imshow(draw_box(test_image,cor))"
   ]
  },
  {
   "cell_type": "code",
   "execution_count": null,
   "metadata": {
    "scrolled": true
   },
   "outputs": [],
   "source": [
    "# Viualize all obtained plate images \n",
    "fig = plt.figure(figsize=(12,6))\n",
    "cols = 5\n",
    "rows = 4\n",
    "fig_list = []\n",
    "\n",
    "for i in range(len(image_paths)):\n",
    "    fig_list.append(fig.add_subplot(rows,cols,i+1))\n",
    "    title = splitext(basename(image_paths[i]))[0]\n",
    "    fig_list[-1].set_title(title)\n",
    "    try:\n",
    "        LpImg,_ = get_plate(image_paths[i])\n",
    "    except AssertionError as e:\n",
    "        print(f'error with image {i}: {e}. \\n{image_paths[i]}')\n",
    "        continue\n",
    "    plt.axis(False)\n",
    "    plt.imshow(LpImg[0])\n",
    "\n",
    "plt.tight_layout(True)\n",
    "plt.show()"
   ]
  },
  {
   "cell_type": "markdown",
   "metadata": {},
   "source": [
    "## Bonus!"
   ]
  },
  {
   "cell_type": "code",
   "execution_count": null,
   "metadata": {},
   "outputs": [],
   "source": [
    "# Extract mutiple plate license in one image \n",
    "\n",
    "multiple_plates_image = \"Plate_examples/multiple_plates.png\"\n",
    "LpImg,cor = get_plate(multiple_plates_image)\n",
    "\n",
    "print(\"Detect %i plate(s) in\"%len(LpImg),splitext(basename(multiple_plates_image))[0])\n",
    "\n",
    "# Visualize the original image\n",
    "plt.figure(figsize=(10,5))\n",
    "plt.axis(False)\n",
    "plt.imshow(preprocess_image(multiple_plates_image))\n",
    "\n",
    "# Visualize the obtained plates\n",
    "plt.figure(figsize=(10,5))\n",
    "plt.subplot(1,2,1)\n",
    "plt.axis(False)\n",
    "plt.imshow(LpImg[1])\n",
    "plt.subplot(1,2,2)\n",
    "plt.axis(False)\n",
    "plt.imshow(LpImg[0])\n",
    "\n"
   ]
  },
  {
   "cell_type": "markdown",
   "metadata": {},
   "source": [
    "## The End!"
   ]
  }
 ],
 "metadata": {
  "kernelspec": {
   "display_name": "Python 3",
   "language": "python",
   "name": "python3"
  },
  "language_info": {
   "codemirror_mode": {
    "name": "ipython",
    "version": 3
   },
   "file_extension": ".py",
   "mimetype": "text/x-python",
   "name": "python",
   "nbconvert_exporter": "python",
   "pygments_lexer": "ipython3",
   "version": "3.6.9"
  }
 },
 "nbformat": 4,
 "nbformat_minor": 4
}
